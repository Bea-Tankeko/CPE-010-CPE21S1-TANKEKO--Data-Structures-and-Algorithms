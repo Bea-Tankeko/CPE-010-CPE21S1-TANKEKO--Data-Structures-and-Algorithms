{
  "nbformat": 4,
  "nbformat_minor": 0,
  "metadata": {
    "colab": {
      "provenance": [],
      "authorship_tag": "ABX9TyNMoVPWYFCsPlvmZyBoEiFN",
      "include_colab_link": true
    },
    "kernelspec": {
      "name": "python3",
      "display_name": "Python 3"
    },
    "language_info": {
      "name": "python"
    }
  },
  "cells": [
    {
      "cell_type": "markdown",
      "metadata": {
        "id": "view-in-github",
        "colab_type": "text"
      },
      "source": [
        "<a href=\"https://colab.research.google.com/github/Bea-Tankeko/DSA-CPE-010-CPE21S1-TANKEKO--Data-Structures-and-Algorithms/blob/main/EXERCISE_1.ipynb\" target=\"_parent\"><img src=\"https://colab.research.google.com/assets/colab-badge.svg\" alt=\"Open In Colab\"/></a>"
      ]
    },
    {
      "cell_type": "code",
      "execution_count": 2,
      "metadata": {
        "colab": {
          "base_uri": "https://localhost:8080/"
        },
        "id": "et7xNpxKxdVZ",
        "outputId": "5a88acb1-890b-449b-f054-e89ac37e967b"
      },
      "outputs": [
        {
          "output_type": "stream",
          "name": "stdout",
          "text": [
            "Enter the length of the rectangle:25\n",
            "Enter the width of the rectangle:30\n",
            "The area of the rectangle is: 750.0\n"
          ]
        }
      ],
      "source": [
        "#Create a program to compute for the area of a rectangle\n",
        "def rectangle_area(length, width):\n",
        "  return length * width\n",
        "length = float (input(\"Enter the length of the rectangle:\"))\n",
        "width = float (input(\"Enter the width of the rectangle:\"))\n",
        "area = rectangle_area(length, width)\n",
        "print(f\"The area of the rectangle is: {area}\")\n"
      ]
    },
    {
      "cell_type": "code",
      "source": [],
      "metadata": {
        "id": "h9GcSwv0x5tI"
      },
      "execution_count": null,
      "outputs": []
    }
  ]
}