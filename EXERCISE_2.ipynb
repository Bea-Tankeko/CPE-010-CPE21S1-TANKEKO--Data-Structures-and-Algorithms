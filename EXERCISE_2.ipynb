{
  "nbformat": 4,
  "nbformat_minor": 0,
  "metadata": {
    "colab": {
      "provenance": [],
      "authorship_tag": "ABX9TyNxfz+vcYs8bmMPJV6aahjM",
      "include_colab_link": true
    },
    "kernelspec": {
      "name": "python3",
      "display_name": "Python 3"
    },
    "language_info": {
      "name": "python"
    }
  },
  "cells": [
    {
      "cell_type": "markdown",
      "metadata": {
        "id": "view-in-github",
        "colab_type": "text"
      },
      "source": [
        "<a href=\"https://colab.research.google.com/github/Bea-Tankeko/DSA-CPE-010-CPE21S1-TANKEKO--Data-Structures-and-Algorithms/blob/main/EXERCISE_2.ipynb\" target=\"_parent\"><img src=\"https://colab.research.google.com/assets/colab-badge.svg\" alt=\"Open In Colab\"/></a>"
      ]
    },
    {
      "cell_type": "code",
      "execution_count": 13,
      "metadata": {
        "colab": {
          "base_uri": "https://localhost:8080/"
        },
        "id": "sFt07CrMzAQ3",
        "outputId": "96f1a31d-0e38-4cfd-e126-98471e0eade2"
      },
      "outputs": [
        {
          "output_type": "stream",
          "name": "stdout",
          "text": [
            "The area of the rectangle is: 225\n",
            "Square area: 100\n",
            "Triangle area: 30.0\n"
          ]
        }
      ],
      "source": [
        "#CREATE SUPERCLASS 'Shapes', with SUBCLASSES 'Square', 'Rectangle', 'Triangle' and calculate their respective areas\n",
        "class Shapes:\n",
        "    def area(self):\n",
        "        pass\n",
        "\n",
        "# Formula for area of rectangle: BASE x HEIGHT\n",
        "class Rectangle(Shapes):\n",
        "    def __init__(self, width, height):\n",
        "        self.width = width\n",
        "        self.height = height\n",
        "\n",
        "    def area(self):\n",
        "        return self.width * self.height\n",
        "\n",
        "#Formula for area of square: SIDE x SIDE (Side SQUARED)\n",
        "class Square(Shapes):\n",
        "    def __init__(self, side):\n",
        "        self.side = side\n",
        "\n",
        "    def area(self):\n",
        "        return self.side * self.side\n",
        "#Formula for area of triangle: 1/2BASE * HEIGHT\n",
        "class Triangle(Shapes):\n",
        "    def __init__(self, base, height):\n",
        "        self.base = base\n",
        "        self.height = height\n",
        "\n",
        "    def area(self):\n",
        "        return 0.5 * self.base * self.height\n",
        "\n",
        "rect = Rectangle(45, 5)\n",
        "print(f\"The area of the rectangle is: {rect.area()}\")\n",
        "\n",
        "square = Square(10)\n",
        "print(f\"Square area: {square.area()}\")\n",
        "\n",
        "tri = Triangle(20, 3)\n",
        "print(f\"Triangle area: {tri.area()}\")\n",
        "\n",
        "\n",
        "\n",
        "\n"
      ]
    }
  ]
}