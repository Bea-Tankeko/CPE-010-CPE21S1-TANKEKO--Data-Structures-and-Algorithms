{
  "nbformat": 4,
  "nbformat_minor": 0,
  "metadata": {
    "colab": {
      "provenance": [],
      "authorship_tag": "ABX9TyPUrymhBA9OYqtap0vVEx9k",
      "include_colab_link": true
    },
    "kernelspec": {
      "name": "python3",
      "display_name": "Python 3"
    },
    "language_info": {
      "name": "python"
    }
  },
  "cells": [
    {
      "cell_type": "markdown",
      "metadata": {
        "id": "view-in-github",
        "colab_type": "text"
      },
      "source": [
        "<a href=\"https://colab.research.google.com/github/Bea-Tankeko/CPE-010-CPE21S1-TANKEKO--Data-Structures-and-Algorithms/blob/main/Exercise3_Tankeko.ipynb\" target=\"_parent\"><img src=\"https://colab.research.google.com/assets/colab-badge.svg\" alt=\"Open In Colab\"/></a>"
      ]
    },
    {
      "cell_type": "code",
      "source": [
        "#Accessing elements in an Array\n",
        "animals = ['Bear','Deer',\"Lion\"]\n",
        "x = animals[1]\n",
        "print (x)"
      ],
      "metadata": {
        "id": "-dJklp1CROgH",
        "colab": {
          "base_uri": "https://localhost:8080/"
        },
        "outputId": "16eabbd0-8d88-4697-b4dc-79d9f2816448"
      },
      "execution_count": 16,
      "outputs": [
        {
          "output_type": "stream",
          "name": "stdout",
          "text": [
            "Deer\n"
          ]
        }
      ]
    },
    {
      "cell_type": "code",
      "source": [
        "#Modifying elements in an array\n",
        "animals = ['Bear','Deer',\"Lion\"]\n",
        "animals[1]='Bobcat'\n",
        "print (animals)"
      ],
      "metadata": {
        "colab": {
          "base_uri": "https://localhost:8080/"
        },
        "id": "Za77CNFtR5hq",
        "outputId": "6c620f2b-859e-4964-f3d2-0106adb87411"
      },
      "execution_count": 14,
      "outputs": [
        {
          "output_type": "stream",
          "name": "stdout",
          "text": [
            "['Bear', 'Bobcat', 'Lion']\n"
          ]
        }
      ]
    },
    {
      "cell_type": "code",
      "source": [
        "#Length of an array\n",
        "animals = ['Bear','Deer',\"Lion\"]\n",
        "x =len(animals)\n",
        "print (x)"
      ],
      "metadata": {
        "colab": {
          "base_uri": "https://localhost:8080/"
        },
        "id": "nXZAdxqFR9vL",
        "outputId": "3bf3d520-1d86-4ac8-86f8-44ed918f8bbb"
      },
      "execution_count": 8,
      "outputs": [
        {
          "output_type": "stream",
          "name": "stdout",
          "text": [
            "3\n"
          ]
        }
      ]
    },
    {
      "cell_type": "code",
      "source": [
        "#Looping Array Elements\n",
        "animals = ['Bear','Deer',\"Lion\"]\n",
        "for x in animals:\n",
        "  print(x)"
      ],
      "metadata": {
        "colab": {
          "base_uri": "https://localhost:8080/"
        },
        "id": "D1KYmA9nSDbW",
        "outputId": "17f09b7a-b97f-4bbf-ea59-a95724209d17"
      },
      "execution_count": 10,
      "outputs": [
        {
          "output_type": "stream",
          "name": "stdout",
          "text": [
            "Bear\n",
            "Deer\n",
            "Lion\n"
          ]
        }
      ]
    },
    {
      "cell_type": "code",
      "source": [
        "#Adding elements in the array\n",
        "animals = ['Bear','Deer',\"Lion\"]\n",
        "animals.append('Bobcat')\n",
        "print(animals)"
      ],
      "metadata": {
        "colab": {
          "base_uri": "https://localhost:8080/"
        },
        "id": "aKkX7EtGSDdv",
        "outputId": "3a9a486a-5918-4f13-c590-b9ff21ca5daf"
      },
      "execution_count": 11,
      "outputs": [
        {
          "output_type": "stream",
          "name": "stdout",
          "text": [
            "['Bear', 'Deer', 'Lion', 'Bobcat']\n"
          ]
        }
      ]
    },
    {
      "cell_type": "code",
      "source": [
        "#Removing an element in the array\n",
        "animals = ['Bear','Deer',\"Lion\"]\n",
        "animals.pop(1)\n",
        "print(animals)"
      ],
      "metadata": {
        "colab": {
          "base_uri": "https://localhost:8080/"
        },
        "id": "Zjhj280mSDf3",
        "outputId": "b63840c3-b249-42c2-d074-5ff86ac80960"
      },
      "execution_count": 13,
      "outputs": [
        {
          "output_type": "stream",
          "name": "stdout",
          "text": [
            "['Bear', 'Lion']\n"
          ]
        }
      ]
    },
    {
      "cell_type": "code",
      "source": [
        "#Reversing the elements in the array\n",
        "animals = ['Bear','Deer',\"Lion\"]\n",
        "animals.reverse()\n",
        "print(animals)"
      ],
      "metadata": {
        "colab": {
          "base_uri": "https://localhost:8080/"
        },
        "id": "63ym4Uj2TFgG",
        "outputId": "fde091ae-2512-4f45-848d-bbed6aa65d94"
      },
      "execution_count": 15,
      "outputs": [
        {
          "output_type": "stream",
          "name": "stdout",
          "text": [
            "['Lion', 'Deer', 'Bear']\n"
          ]
        }
      ]
    }
  ]
}