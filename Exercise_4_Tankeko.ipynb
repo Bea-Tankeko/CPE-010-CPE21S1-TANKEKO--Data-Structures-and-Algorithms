{
  "nbformat": 4,
  "nbformat_minor": 0,
  "metadata": {
    "colab": {
      "provenance": [],
      "authorship_tag": "ABX9TyOqFSUBrvuSElHDpfKagQVk",
      "include_colab_link": true
    },
    "kernelspec": {
      "name": "python3",
      "display_name": "Python 3"
    },
    "language_info": {
      "name": "python"
    }
  },
  "cells": [
    {
      "cell_type": "markdown",
      "metadata": {
        "id": "view-in-github",
        "colab_type": "text"
      },
      "source": [
        "<a href=\"https://colab.research.google.com/github/Bea-Tankeko/DSA-CPE-010-CPE21S1-TANKEKO--Data-Structures-and-Algorithms/blob/main/Exercise_4_Tankeko.ipynb\" target=\"_parent\"><img src=\"https://colab.research.google.com/assets/colab-badge.svg\" alt=\"Open In Colab\"/></a>"
      ]
    },
    {
      "cell_type": "code",
      "execution_count": null,
      "metadata": {
        "id": "uw0I1Wfaz22e"
      },
      "outputs": [],
      "source": [
        "#Reversing the elements in the array\n",
        "animals = ['Bear','Deer',\"Lion\"]\n",
        "animals.reverse()\n",
        "print(animals)"
      ]
    },
    {
      "cell_type": "code",
      "source": [
        "#Reversing the element in the array\n",
        "animals =['Bear','Deer', 'Lion']\n",
        "reverse_animal=[]\n",
        "for x in animals:\n",
        "  reverse_animal.append(x[::-1])\n",
        "print(reverse_animal)"
      ],
      "metadata": {
        "colab": {
          "base_uri": "https://localhost:8080/"
        },
        "id": "o87eswVA-2V4",
        "outputId": "96b6efc3-9631-4ffa-bbed-e8cfafd8a1a4"
      },
      "execution_count": 60,
      "outputs": [
        {
          "output_type": "stream",
          "name": "stdout",
          "text": [
            "['raeB', 'reeD', 'noiL']\n"
          ]
        }
      ]
    },
    {
      "cell_type": "code",
      "source": [
        "#Reversing the characters of the elements in an array EX.1 (Manual reverse)\n",
        "Bear = ['B','e','a','r']\n",
        "Deer =['D','e','e','r']\n",
        "Lion =['L','i','o','n']\n",
        "Bear.reverse()\n",
        "Deer.reverse()\n",
        "Lion.reverse()\n",
        "print(Bear, Deer, Lion)"
      ],
      "metadata": {
        "colab": {
          "base_uri": "https://localhost:8080/"
        },
        "id": "QXMWPdYhz-4D",
        "outputId": "ac7b8fe7-4909-4895-c7b7-7e557af8ded6"
      },
      "execution_count": 11,
      "outputs": [
        {
          "output_type": "stream",
          "name": "stdout",
          "text": [
            "['r', 'a', 'e', 'B'] ['r', 'e', 'e', 'D'] ['n', 'o', 'i', 'L']\n"
          ]
        }
      ]
    },
    {
      "cell_type": "code",
      "source": [
        "#Reversing the characters of the elements in the array EX.2 (Slicing)\n",
        "animals = ['Bear','Deer',\"Lion\"]\n",
        "animals_reverse=[char for animal in animals for char in animal[::-1]]\n",
        "print (animals_reverse)"
      ],
      "metadata": {
        "colab": {
          "base_uri": "https://localhost:8080/"
        },
        "id": "Qzo3nsAQ2KxA",
        "outputId": "d1dd3d5e-3941-423e-f423-7b88e241f5b3"
      },
      "execution_count": 56,
      "outputs": [
        {
          "output_type": "stream",
          "name": "stdout",
          "text": [
            "['r', 'a', 'e', 'B', 'r', 'e', 'e', 'D', 'n', 'o', 'i', 'L']\n"
          ]
        }
      ]
    },
    {
      "cell_type": "markdown",
      "source": [],
      "metadata": {
        "id": "05EYIMWp65VZ"
      }
    }
  ]
}